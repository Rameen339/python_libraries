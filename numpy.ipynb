{
 "cells": [
  {
   "cell_type": "code",
   "execution_count": null,
   "id": "d98ad389",
   "metadata": {},
   "outputs": [],
   "source": [
    "import numpy as np\n",
    "x=np.array([1,2,3,4,5])\n",
    "print(x)\n",
    "print(type(x))\n",
    "print(x.ndim)"
   ]
  },
  {
   "cell_type": "code",
   "execution_count": null,
   "id": "969eb91b",
   "metadata": {},
   "outputs": [],
   "source": [
    "import numpy as np   \n",
    "l=[]\n",
    "for i in range(1,6):\n",
    "    int_l=int(input(\"enter:\"))\n",
    "    l.append(int_l)\n",
    "    print(np.array(l))"
   ]
  },
  {
   "cell_type": "code",
   "execution_count": 1,
   "id": "21be3884",
   "metadata": {},
   "outputs": [
    {
     "name": "stdout",
     "output_type": "stream",
     "text": [
      "[[ 1  2  3  4]\n",
      " [ 2  3 67  8]]\n",
      "2\n"
     ]
    }
   ],
   "source": [
    "import numpy as np \n",
    "y=np.array([[1,2,3,4],[2,3,67,8]])\n",
    "print(y)\n",
    "print(y.ndim)"
   ]
  },
  {
   "cell_type": "code",
   "execution_count": 7,
   "id": "cdcddcb5",
   "metadata": {},
   "outputs": [
    {
     "name": "stdout",
     "output_type": "stream",
     "text": [
      "[[[[[[[[[[1 2 3 4]]]]]]]]]]\n",
      "10\n"
     ]
    }
   ],
   "source": [
    "import numpy as np\n",
    "y=np.array([1,2,3,4],ndmin=10)\n",
    "print(y)\n",
    "print(y.ndim)"
   ]
  },
  {
   "cell_type": "code",
   "execution_count": 12,
   "id": "573a8e62",
   "metadata": {},
   "outputs": [
    {
     "name": "stdout",
     "output_type": "stream",
     "text": [
      "[0. 0. 0. 0.]\n",
      "[[0. 0. 0.]\n",
      " [0. 0. 0.]]\n"
     ]
    }
   ],
   "source": [
    "import numpy as np\n",
    "ar_zero=np.zeros(4)\n",
    "print(ar_zero)\n",
    "ar_zero2=np.zeros((2,3))\n",
    "print(ar_zero2)"
   ]
  },
  {
   "cell_type": "code",
   "execution_count": 14,
   "id": "049c61ad",
   "metadata": {},
   "outputs": [
    {
     "name": "stdout",
     "output_type": "stream",
     "text": [
      "[ 0  1  2  3  4  5  6  7  8  9 10 11 12 13 14 15 16 17 18 19 20 21 22 23]\n"
     ]
    }
   ],
   "source": [
    "import numpy as np\n",
    "ar_rn=np.arange(24)\n",
    "print(ar_rn)"
   ]
  },
  {
   "cell_type": "code",
   "execution_count": 16,
   "id": "108115dc",
   "metadata": {},
   "outputs": [
    {
     "name": "stdout",
     "output_type": "stream",
     "text": [
      "[[1. 0. 0. 0.]\n",
      " [0. 1. 0. 0.]\n",
      " [0. 0. 1. 0.]\n",
      " [0. 0. 0. 1.]]\n"
     ]
    }
   ],
   "source": [
    "ar_dia=np.eye(4)\n",
    "print(ar_dia)"
   ]
  },
  {
   "cell_type": "code",
   "execution_count": 18,
   "id": "4851a389",
   "metadata": {},
   "outputs": [
    {
     "name": "stdout",
     "output_type": "stream",
     "text": [
      "[ 1.    3.25  5.5   7.75 10.  ]\n"
     ]
    }
   ],
   "source": [
    "import numpy as np\n",
    "ar_lin=np.linspace(1,10,num=5)\n",
    "print(ar_lin)"
   ]
  },
  {
   "cell_type": "code",
   "execution_count": 20,
   "id": "9ef2e1f0",
   "metadata": {},
   "outputs": [
    {
     "name": "stdout",
     "output_type": "stream",
     "text": [
      "[0.41683878 0.7740848  0.67541181 0.21016891]\n"
     ]
    }
   ],
   "source": [
    "import numpy as np\n",
    "var=np.random.rand(4)\n",
    "print(var)"
   ]
  },
  {
   "cell_type": "code",
   "execution_count": 21,
   "id": "463aa05b",
   "metadata": {},
   "outputs": [
    {
     "name": "stdout",
     "output_type": "stream",
     "text": [
      "[[0.41777394 0.54193058 0.90678443 0.89932447 0.40740474]\n",
      " [0.83625736 0.35625595 0.75169248 0.91624551 0.68097378]\n",
      " [0.76941388 0.76114803 0.04629971 0.14874273 0.78295366]\n",
      " [0.1992134  0.6961799  0.95492228 0.15931517 0.05544853]]\n"
     ]
    }
   ],
   "source": [
    "import numpy as np\n",
    "var=np.random.rand(4,5)\n",
    "print(var)"
   ]
  },
  {
   "cell_type": "code",
   "execution_count": 22,
   "id": "ede974db",
   "metadata": {},
   "outputs": [
    {
     "name": "stdout",
     "output_type": "stream",
     "text": [
      "[[-0.37204382 -0.20730239  1.16479536  0.0220162  -1.87609191]\n",
      " [ 1.58130266  0.54014653  1.83309899 -0.46285361  1.09442623]\n",
      " [-0.25028874  0.93631355 -0.95883941 -0.62752136  0.99678281]\n",
      " [-0.84979498  0.02373316 -0.03829961  0.88866095  0.08861435]]\n"
     ]
    }
   ],
   "source": [
    "import numpy as np\n",
    "var=np.random.randn(4,5)\n",
    "print(var)"
   ]
  },
  {
   "cell_type": "code",
   "execution_count": 24,
   "id": "9b38ce0a",
   "metadata": {},
   "outputs": [
    {
     "name": "stdout",
     "output_type": "stream",
     "text": [
      "[0.97290926 0.93237462 0.47915471 0.1196991  0.90481511]\n"
     ]
    }
   ],
   "source": [
    "import numpy as np\n",
    "var=np.random.ranf(5)\n",
    "print(var)"
   ]
  },
  {
   "cell_type": "code",
   "execution_count": 30,
   "id": "b8ff06f8",
   "metadata": {},
   "outputs": [
    {
     "name": "stdout",
     "output_type": "stream",
     "text": [
      "[6 4 5 6 3]\n"
     ]
    }
   ],
   "source": [
    "import numpy as np\n",
    "ar_ram=np.random.randint(1,10,5)\n",
    "print(ar_ram)"
   ]
  },
  {
   "cell_type": "code",
   "execution_count": 31,
   "id": "f0b8854f",
   "metadata": {},
   "outputs": [
    {
     "name": "stdout",
     "output_type": "stream",
     "text": [
      "Dta type: int64\n"
     ]
    }
   ],
   "source": [
    "import numpy as np\n",
    "ar_ram=np.array([1,10,5])\n",
    "print(\"Dta type:\",ar_ram.dtype)"
   ]
  },
  {
   "cell_type": "markdown",
   "id": "cdb0d1ed",
   "metadata": {},
   "source": []
  },
  {
   "cell_type": "code",
   "execution_count": 33,
   "id": "46372e96",
   "metadata": {},
   "outputs": [
    {
     "name": "stdout",
     "output_type": "stream",
     "text": [
      "(2, 3)\n"
     ]
    }
   ],
   "source": [
    "import numpy as np\n",
    "ar_ram=np.array([[1,10,5],[1,2,3]])\n",
    "print(ar_ram.shape)"
   ]
  },
  {
   "cell_type": "code",
   "execution_count": 38,
   "id": "dc0b3d35",
   "metadata": {},
   "outputs": [
    {
     "name": "stdout",
     "output_type": "stream",
     "text": [
      "[[ 1 10]\n",
      " [51  2]\n",
      " [ 3  4]]\n"
     ]
    }
   ],
   "source": [
    "import numpy as np\n",
    "ar_ram=np.array([1,10,51,2,3,4])\n",
    "x=ar_ram.reshape(3,2)\n",
    "print(x)"
   ]
  },
  {
   "cell_type": "code",
   "execution_count": 39,
   "id": "88a17d89",
   "metadata": {},
   "outputs": [
    {
     "name": "stdout",
     "output_type": "stream",
     "text": [
      "[ 4 13 54  5  6  7]\n"
     ]
    }
   ],
   "source": [
    "import numpy as np\n",
    "ar_ram=np.array([1,10,51,2,3,4])\n",
    "var_add=ar_ram+3\n",
    "print(var_add)"
   ]
  },
  {
   "cell_type": "code",
   "execution_count": 44,
   "id": "8cb67c52",
   "metadata": {},
   "outputs": [
    {
     "name": "stdout",
     "output_type": "stream",
     "text": [
      "[ 4 13 54  5  6  7]\n"
     ]
    }
   ],
   "source": [
    "import numpy as np\n",
    "ar_ram=np.array([1,10,51,2,3,4])\n",
    "var_add=np.add(ar_ram,3)\n",
    "print(var_add)"
   ]
  },
  {
   "cell_type": "code",
   "execution_count": 40,
   "id": "78f2abf6",
   "metadata": {},
   "outputs": [
    {
     "name": "stdout",
     "output_type": "stream",
     "text": [
      "[ 3 13 55  7  9 11]\n"
     ]
    }
   ],
   "source": [
    "import numpy as np\n",
    "ar_ram=np.array([1,10,51,2,3,4])\n",
    "ram_2=([2,3,4,5,6,7])\n",
    "var_add=ar_ram+ram_2\n",
    "print(var_add)"
   ]
  },
  {
   "cell_type": "code",
   "execution_count": 43,
   "id": "b6dad5f5",
   "metadata": {},
   "outputs": [
    {
     "name": "stdout",
     "output_type": "stream",
     "text": [
      "[ 3 13 55  7  9 11]\n"
     ]
    }
   ],
   "source": [
    "import numpy as np\n",
    "ar_ram=np.array([1,10,51,2,3,4])\n",
    "ram_2=([2,3,4,5,6,7])\n",
    "var_add=np.add(ar_ram,ram_2)\n",
    "print(var_add)"
   ]
  },
  {
   "cell_type": "code",
   "execution_count": 41,
   "id": "3f502361",
   "metadata": {},
   "outputs": [
    {
     "name": "stdout",
     "output_type": "stream",
     "text": [
      "[ 0.33333333  3.33333333 17.          0.66666667  1.          1.33333333]\n"
     ]
    }
   ],
   "source": [
    "import numpy as np\n",
    "ar_ram=np.array([1,10,51,2,3,4])\n",
    "var_multi=ar_ram/3\n",
    "print(var_multi)"
   ]
  },
  {
   "cell_type": "code",
   "execution_count": 42,
   "id": "369c8bcd",
   "metadata": {},
   "outputs": [
    {
     "name": "stdout",
     "output_type": "stream",
     "text": [
      "[1 1 0 2 0 1]\n"
     ]
    }
   ],
   "source": [
    "import numpy as np\n",
    "ar_ram=np.array([1,10,51,2,3,4])\n",
    "var_multi=ar_ram%3\n",
    "print(var_multi)"
   ]
  },
  {
   "cell_type": "code",
   "execution_count": 46,
   "id": "d1d5fc7b",
   "metadata": {},
   "outputs": [
    {
     "name": "stdout",
     "output_type": "stream",
     "text": [
      "[     1   1000 132651      8     27     64]\n"
     ]
    }
   ],
   "source": [
    "import numpy as np\n",
    "ar_ram=np.array([1,10,51,2,3,4])\n",
    "var_pow=ar_ram**3\n",
    "print(var_pow)"
   ]
  },
  {
   "cell_type": "code",
   "execution_count": 48,
   "id": "2e94a994",
   "metadata": {},
   "outputs": [
    {
     "name": "stdout",
     "output_type": "stream",
     "text": [
      "[[  3  13  55  80  93  93]\n",
      " [ 25   8 471 103  85  61]]\n"
     ]
    }
   ],
   "source": [
    "import numpy as np\n",
    "ar_ram=np.array([[1,10,51,2,3,4],[2,3,4,5,6,7]])\n",
    "var_mar=([[2,3,4,78,90,89],[23,5,467,98,79,54]])\n",
    "var_add=np.add(ar_ram,var_mar)\n",
    "print(var_add)"
   ]
  },
  {
   "cell_type": "code",
   "execution_count": 51,
   "id": "d2795b81",
   "metadata": {},
   "outputs": [
    {
     "name": "stdout",
     "output_type": "stream",
     "text": [
      "1\n",
      "max: 51\n"
     ]
    }
   ],
   "source": [
    "import numpy as np\n",
    "ar_ram=np.array([1,10,51,2,3,4])\n",
    "var_min=np.min(ar_ram)\n",
    "print(var_min)\n",
    "print(\"max:\",np.max(ar_ram))"
   ]
  },
  {
   "cell_type": "code",
   "execution_count": 52,
   "id": "551f83c3",
   "metadata": {},
   "outputs": [
    {
     "name": "stdout",
     "output_type": "stream",
     "text": [
      "1\n",
      "max: 51 2\n"
     ]
    }
   ],
   "source": [
    "import numpy as np\n",
    "ar_ram=np.array([1,10,51,2,3,4])\n",
    "var_min=np.min(ar_ram)\n",
    "print(var_min)\n",
    "print(\"max:\",np.max(ar_ram),np.argmax(ar_ram))"
   ]
  },
  {
   "cell_type": "code",
   "execution_count": 63,
   "id": "29fa49e6",
   "metadata": {},
   "outputs": [
    {
     "name": "stdout",
     "output_type": "stream",
     "text": [
      "[1.         3.16227766 7.14142843 1.41421356 1.73205081 2.        ]\n"
     ]
    }
   ],
   "source": [
    "import numpy as np\n",
    "ar_ram=np.array([1,10,51,2,3,4])\n",
    "var_sqrt=np.sqrt(ar_ram)\n",
    "print(var_sqrt)\n"
   ]
  },
  {
   "cell_type": "code",
   "execution_count": 66,
   "id": "7015c0d3",
   "metadata": {},
   "outputs": [
    {
     "name": "stdout",
     "output_type": "stream",
     "text": [
      "[ 0.54030231 -0.83907153  0.7421542  -0.41614684 -0.9899925  -0.65364362]\n",
      "[ 1 11 62 64 67 71]\n"
     ]
    }
   ],
   "source": [
    "import numpy as np\n",
    "ar_ram=np.array([1,10,51,2,3,4])\n",
    "var_trigno=np.cos(ar_ram)\n",
    "print(var_trigno)\n",
    "print(np.cumsum(ar_ram))"
   ]
  },
  {
   "cell_type": "code",
   "execution_count": 70,
   "id": "73534f9e",
   "metadata": {},
   "outputs": [
    {
     "name": "stdout",
     "output_type": "stream",
     "text": [
      "10\n"
     ]
    }
   ],
   "source": [
    "import numpy as np\n",
    "ar_ram=np.array([1,10,51,2,3,4])\n",
    "print(ar_ram[-5])\n"
   ]
  },
  {
   "cell_type": "code",
   "execution_count": 74,
   "id": "205ac86a",
   "metadata": {},
   "outputs": [
    {
     "name": "stdout",
     "output_type": "stream",
     "text": [
      "2\n",
      "78\n"
     ]
    }
   ],
   "source": [
    "var1=np.array([[1,2,3,4,5],[34,56,78,90,1]])\n",
    "print(var1.ndim)\n",
    "print(var1[1,-3])"
   ]
  },
  {
   "cell_type": "code",
   "execution_count": 76,
   "id": "06141d53",
   "metadata": {},
   "outputs": [
    {
     "name": "stdout",
     "output_type": "stream",
     "text": [
      "3\n",
      "78\n"
     ]
    }
   ],
   "source": [
    "var1=np.array([[[1,2,3,4,5],[34,56,78,90,1]]])\n",
    "print(var1.ndim)\n",
    "print(var1[0,1,-3])\n"
   ]
  },
  {
   "cell_type": "code",
   "execution_count": 88,
   "id": "7b45f63b",
   "metadata": {},
   "outputs": [
    {
     "name": "stdout",
     "output_type": "stream",
     "text": [
      "[ 2  4 34 78 11]\n"
     ]
    }
   ],
   "source": [
    "var1=np.array([1,2,3,4,5,34,56,78,90,11])\n",
    "print(var1[1:11:2])\n",
    "\n"
   ]
  },
  {
   "cell_type": "code",
   "execution_count": 90,
   "id": "88617361",
   "metadata": {},
   "outputs": [
    {
     "name": "stdout",
     "output_type": "stream",
     "text": [
      "[56 90]\n"
     ]
    }
   ],
   "source": [
    "var1=np.array([[1,2,3,4,5],[34,56,78,90,1]])\n",
    "print(var1[1,1:56:2])\n"
   ]
  },
  {
   "cell_type": "code",
   "execution_count": 3,
   "id": "5935dd48",
   "metadata": {},
   "outputs": [
    {
     "name": "stdout",
     "output_type": "stream",
     "text": [
      "1\n",
      "2\n",
      "3\n",
      "4\n",
      "5\n",
      "34\n",
      "56\n",
      "78\n",
      "90\n",
      "11\n"
     ]
    }
   ],
   "source": [
    "import numpy as np\n",
    "var1=np.array([1,2,3,4,5,34,56,78,90,11])\n",
    "for i in var1:\n",
    "    print(i)"
   ]
  },
  {
   "cell_type": "code",
   "execution_count": 9,
   "id": "7ace37e2",
   "metadata": {},
   "outputs": [
    {
     "name": "stdout",
     "output_type": "stream",
     "text": [
      "1\n",
      "2\n",
      "3\n",
      "4\n",
      "5\n",
      "34\n",
      "56\n",
      "78\n",
      "90\n",
      "11\n"
     ]
    }
   ],
   "source": [
    "import numpy as np\n",
    "var1=np.array([[1,2,3,4,5],[34,56,78,90,11]])\n",
    "for i in var1:\n",
    "     for l in i:\n",
    "      print(l)"
   ]
  },
  {
   "cell_type": "code",
   "execution_count": 10,
   "id": "4110fa04",
   "metadata": {},
   "outputs": [
    {
     "name": "stdout",
     "output_type": "stream",
     "text": [
      "1\n",
      "2\n",
      "3\n",
      "4\n",
      "5\n",
      "34\n",
      "56\n",
      "78\n",
      "90\n",
      "11\n"
     ]
    }
   ],
   "source": [
    "import numpy as np\n",
    "var1=np.array([[[1,2,3,4,5],[34,56,78,90,11]]])\n",
    "for i in var1:\n",
    "     for l in i:\n",
    "       for j in l:\n",
    "        print(j)"
   ]
  },
  {
   "cell_type": "code",
   "execution_count": 12,
   "id": "72b76694",
   "metadata": {},
   "outputs": [
    {
     "name": "stdout",
     "output_type": "stream",
     "text": [
      "1\n",
      "2\n",
      "3\n",
      "4\n",
      "5\n",
      "34\n",
      "56\n",
      "78\n",
      "90\n",
      "11\n"
     ]
    }
   ],
   "source": [
    "import numpy as np\n",
    "var1=np.array([[[1,2,3,4,5],[34,56,78,90,11]]])\n",
    "for i in np.nditer(var1):\n",
    "    print(i)\n"
   ]
  },
  {
   "cell_type": "code",
   "execution_count": 13,
   "id": "62d01ce4",
   "metadata": {},
   "outputs": [
    {
     "name": "stdout",
     "output_type": "stream",
     "text": [
      "(0, 0, 0) 1\n",
      "(0, 0, 1) 2\n",
      "(0, 0, 2) 3\n",
      "(0, 0, 3) 4\n",
      "(0, 0, 4) 5\n",
      "(0, 1, 0) 34\n",
      "(0, 1, 1) 56\n",
      "(0, 1, 2) 78\n",
      "(0, 1, 3) 90\n",
      "(0, 1, 4) 11\n"
     ]
    }
   ],
   "source": [
    "import numpy as np\n",
    "var1=np.array([[[1,2,3,4,5],[34,56,78,90,11]]])\n",
    "for i,d in np.ndenumerate(var1):\n",
    "    print(i,d)"
   ]
  },
  {
   "cell_type": "code",
   "execution_count": 23,
   "id": "d2a6bc0e",
   "metadata": {},
   "outputs": [
    {
     "name": "stdout",
     "output_type": "stream",
     "text": [
      "[ 1  2  3  4  5  1 45 65 78 90]\n"
     ]
    }
   ],
   "source": [
    "import numpy as np\n",
    "var1=np.array([1,2,3,4,5])\n",
    "var3=np.array([1,45,65,78,90])\n",
    "var2= np.concatenate((var1,var3))\n",
    "print(var2)"
   ]
  },
  {
   "cell_type": "code",
   "execution_count": 25,
   "id": "6bccdeb4",
   "metadata": {},
   "outputs": [
    {
     "name": "stdout",
     "output_type": "stream",
     "text": [
      "[[ 1  2  1 45]\n",
      " [ 4  5 78 90]]\n"
     ]
    }
   ],
   "source": [
    "import numpy as np\n",
    "var1=np.array([[1,2],[4,5]])\n",
    "var3=np.array([[1,45],[78,90]])\n",
    "var2= np.concatenate((var1,var3),axis=1)\n",
    "print(var2)"
   ]
  },
  {
   "cell_type": "code",
   "execution_count": 27,
   "id": "a70a88e0",
   "metadata": {},
   "outputs": [
    {
     "name": "stdout",
     "output_type": "stream",
     "text": [
      "[[[ 1  2]\n",
      "  [ 1 45]]\n",
      "\n",
      " [[ 4  5]\n",
      "  [78 90]]]\n"
     ]
    }
   ],
   "source": [
    "import numpy as np\n",
    "var1=np.array([[1,2],[4,5]])\n",
    "var3=np.array([[1,45],[78,90]])\n",
    "var2= np.stack((var1,var3),axis=1)\n",
    "print(var2)"
   ]
  },
  {
   "cell_type": "code",
   "execution_count": 29,
   "id": "bef51b38",
   "metadata": {},
   "outputs": [
    {
     "name": "stdout",
     "output_type": "stream",
     "text": [
      "[[ 1  2  1 45]\n",
      " [ 4  5 78 90]]\n"
     ]
    }
   ],
   "source": [
    "import numpy as np\n",
    "var1=np.array([[1,2],[4,5]])\n",
    "var3=np.array([[1,45],[78,90]])\n",
    "var2= np.hstack((var1,var3))\n",
    "print(var2)"
   ]
  },
  {
   "cell_type": "code",
   "execution_count": 30,
   "id": "73ef793c",
   "metadata": {},
   "outputs": [
    {
     "name": "stdout",
     "output_type": "stream",
     "text": [
      "[[ 1  2]\n",
      " [ 4  5]\n",
      " [ 1 45]\n",
      " [78 90]]\n"
     ]
    }
   ],
   "source": [
    "import numpy as np\n",
    "var1=np.array([[1,2],[4,5]])\n",
    "var3=np.array([[1,45],[78,90]])\n",
    "var2= np.vstack((var1,var3))\n",
    "print(var2)"
   ]
  },
  {
   "cell_type": "code",
   "execution_count": 31,
   "id": "5ce5ba6e",
   "metadata": {},
   "outputs": [
    {
     "name": "stdout",
     "output_type": "stream",
     "text": [
      "[[[ 1  1]\n",
      "  [ 2 45]]\n",
      "\n",
      " [[ 4 78]\n",
      "  [ 5 90]]]\n"
     ]
    }
   ],
   "source": [
    "import numpy as np\n",
    "var1=np.array([[1,2],[4,5]])\n",
    "var3=np.array([[1,45],[78,90]])\n",
    "var2= np.dstack((var1,var3))\n",
    "print(var2)"
   ]
  },
  {
   "cell_type": "code",
   "execution_count": 35,
   "id": "31219b73",
   "metadata": {},
   "outputs": [
    {
     "name": "stdout",
     "output_type": "stream",
     "text": [
      "[array([1, 2]), array([3, 4]), array([5, 6])]\n",
      "1\n"
     ]
    }
   ],
   "source": [
    "import numpy as np\n",
    "var1=np.array([1,2,3,4,5,6])\n",
    "var2= np.split(var1,3)\n",
    "print(var2)\n",
    "print(var1[0])"
   ]
  },
  {
   "cell_type": "code",
   "execution_count": 40,
   "id": "4afe8205",
   "metadata": {},
   "outputs": [
    {
     "name": "stdout",
     "output_type": "stream",
     "text": [
      "(array([3]),)\n"
     ]
    }
   ],
   "source": [
    "import numpy as np\n",
    "var1=np.array([1,2,3,4,5,6])\n",
    "x=np.where((var1/2)==2)\n",
    "print(x)"
   ]
  },
  {
   "cell_type": "code",
   "execution_count": 42,
   "id": "e5086731",
   "metadata": {},
   "outputs": [
    {
     "name": "stdout",
     "output_type": "stream",
     "text": [
      "4\n"
     ]
    }
   ],
   "source": [
    "import numpy as np\n",
    "var1=np.array([1,2,3,4,5,6])\n",
    "x=np.searchsorted(var1,5)\n",
    "print(x)"
   ]
  },
  {
   "cell_type": "code",
   "execution_count": 45,
   "id": "eae04f77",
   "metadata": {},
   "outputs": [
    {
     "name": "stdout",
     "output_type": "stream",
     "text": [
      "6\n"
     ]
    }
   ],
   "source": [
    "import numpy as np\n",
    "var1=np.array([1,2,3,4,5,6])\n",
    "x=np.searchsorted(var1,7,side='right')\n",
    "print(x)"
   ]
  },
  {
   "cell_type": "code",
   "execution_count": 46,
   "id": "ffdc4cd9",
   "metadata": {},
   "outputs": [
    {
     "name": "stdout",
     "output_type": "stream",
     "text": [
      "[4 4 4]\n"
     ]
    }
   ],
   "source": [
    "import numpy as np\n",
    "var1=np.array([1,2,3,4,5,6])\n",
    "x=np.searchsorted(var1,[4,4,4],side='right')\n",
    "print(x)"
   ]
  }
 ],
 "metadata": {
  "kernelspec": {
   "display_name": "Python 3",
   "language": "python",
   "name": "python3"
  },
  "language_info": {
   "codemirror_mode": {
    "name": "ipython",
    "version": 3
   },
   "file_extension": ".py",
   "mimetype": "text/x-python",
   "name": "python",
   "nbconvert_exporter": "python",
   "pygments_lexer": "ipython3",
   "version": "3.13.5"
  }
 },
 "nbformat": 4,
 "nbformat_minor": 5
}
